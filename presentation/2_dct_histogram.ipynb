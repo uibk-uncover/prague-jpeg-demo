{
 "cells": [
  {
   "cell_type": "markdown",
   "id": "830c94c8",
   "metadata": {
    "slideshow": {
     "slide_type": "slide"
    }
   },
   "source": [
    "# Introduction to JPEG: Practical tools\n",
    "\n",
    "Martin Beneš\n",
    "\n",
    "<div style=\"text-align: center\">\n",
    "<img src=\"https://www.uibk.ac.at/media/filer_public/00/c3/00c369ba-9e7a-42a4-9f73-466c81dc951a/universitaet-innsbruck-logo-cmyk-farbe.jpg\" style=\"height: 5em; display: inline; padding-right: 2em\" />\n",
    "<img src=\"https://www.uncoverproject.eu/wp-content/uploads/2021/05/UNCOVER-Logog-440x92.5-final-1.0.png\" style=\"height: 4em; display: inline; padding-left: 2em\" />\n",
    "</div>"
   ]
  },
  {
   "cell_type": "markdown",
   "id": "f3ce0a4c",
   "metadata": {
    "slideshow": {
     "slide_type": "skip"
    }
   },
   "source": [
    "## Notebook setup"
   ]
  },
  {
   "cell_type": "markdown",
   "id": "2b65a2b4",
   "metadata": {
    "slideshow": {
     "slide_type": "skip"
    }
   },
   "source": [
    "First, install `jpeglib` package."
   ]
  },
  {
   "cell_type": "code",
   "execution_count": 1,
   "id": "a9d004fb",
   "metadata": {
    "slideshow": {
     "slide_type": "skip"
    }
   },
   "outputs": [
    {
     "name": "stdout",
     "output_type": "stream",
     "text": [
      "Requirement already satisfied: jpeglib in /opt/miniconda3/envs/dev/lib/python3.8/site-packages (0.13.0)\r\n",
      "Requirement already satisfied: numpy>=1.18.0 in /opt/miniconda3/envs/dev/lib/python3.8/site-packages (from jpeglib) (1.22.3)\r\n",
      "Requirement already satisfied: wheel>0.30.0 in /opt/miniconda3/envs/dev/lib/python3.8/site-packages (from jpeglib) (0.38.4)\r\n"
     ]
    }
   ],
   "source": [
    "!pip install jpeglib  # install dependencies"
   ]
  },
  {
   "cell_type": "markdown",
   "id": "a881798a",
   "metadata": {
    "slideshow": {
     "slide_type": "skip"
    }
   },
   "source": [
    "We use again `00001.tif` from ALASKA database as a sample image."
   ]
  },
  {
   "cell_type": "code",
   "execution_count": 2,
   "id": "5dcb41dc",
   "metadata": {
    "slideshow": {
     "slide_type": "skip"
    }
   },
   "outputs": [
    {
     "name": "stderr",
     "output_type": "stream",
     "text": [
      "/opt/miniconda3/envs/dev/lib/python3.8/site-packages/urllib3/connectionpool.py:1045: InsecureRequestWarning: Unverified HTTPS request is being made to host 'alaska.utt.fr'. Adding certificate verification is strongly advised. See: https://urllib3.readthedocs.io/en/1.26.x/advanced-usage.html#ssl-warnings\n",
      "  warnings.warn(\n"
     ]
    }
   ],
   "source": [
    "# download 00001.tif from ALASKA website\n",
    "import requests\n",
    "res = requests.get('http://alaska.utt.fr/DATASETS/ALASKA_v2_TIFF_512_COLOR/00001.tif', verify=False)\n",
    "with open('00001.tif', 'wb') as f:\n",
    "    f.write(res.content)"
   ]
  },
  {
   "cell_type": "markdown",
   "id": "9ea71c8b",
   "metadata": {
    "slideshow": {
     "slide_type": "slide"
    }
   },
   "source": [
    "## In JPEG we can work losslessly with DCT coefficients."
   ]
  },
  {
   "cell_type": "markdown",
   "id": "eca32a4f",
   "metadata": {
    "slideshow": {
     "slide_type": "skip"
    }
   },
   "source": [
    "DCT coefficients denote the contribution of each frequency to the pixel block. $8x8$ DCT block denotes following frequencies. These frequencies are also called subbands."
   ]
  },
  {
   "cell_type": "markdown",
   "id": "1e686f57",
   "metadata": {
    "slideshow": {
     "slide_type": "fragment"
    }
   },
   "source": [
    "<div style=\"text-align: center\">\n",
    "<img src=\"https://github.com/uibk-uncover/prague-jpeg-demo/blob/main/img/dct.png?raw=true\" style=\"height: 25em\"/>\n",
    "</div>"
   ]
  },
  {
   "cell_type": "markdown",
   "id": "0fcb8aa8",
   "metadata": {
    "slideshow": {
     "slide_type": "skip"
    }
   },
   "source": [
    "We start with JPEG-compressed file `cover_qf75.jpeg`."
   ]
  },
  {
   "cell_type": "code",
   "execution_count": 3,
   "id": "6b987aed",
   "metadata": {
    "slideshow": {
     "slide_type": "subslide"
    }
   },
   "outputs": [],
   "source": [
    "import jpeglib\n",
    "import numpy as np\n",
    "from PIL import Image\n",
    "RGB = np.array(Image.open('00001.tif'))  # load RGB\n",
    "jpeglib.from_spatial(RGB).write_spatial('cover_qf75.jpeg', qt=75)"
   ]
  },
  {
   "cell_type": "markdown",
   "id": "d816d867",
   "metadata": {
    "slideshow": {
     "slide_type": "skip"
    }
   },
   "source": [
    "We can losslessly read and write DCT coefficients."
   ]
  },
  {
   "cell_type": "code",
   "execution_count": 4,
   "id": "9b194aaf",
   "metadata": {
    "slideshow": {
     "slide_type": "subslide"
    }
   },
   "outputs": [],
   "source": [
    "jpeg = jpeglib.read_dct('cover_qf75.jpeg')  # read JPEG in DCT domain"
   ]
  },
  {
   "cell_type": "markdown",
   "id": "3e9df6b5",
   "metadata": {
    "slideshow": {
     "slide_type": "skip"
    }
   },
   "source": [
    "The luminance tensor can be accessed with `Y`. Original $512\\times512$ image is split into $64\\times64$ pixel blocks, each consisting of $8\\times8$ pixels (because $\\frac{512}{8}=64$)."
   ]
  },
  {
   "cell_type": "code",
   "execution_count": 5,
   "id": "e638b411",
   "metadata": {
    "slideshow": {
     "slide_type": "fragment"
    }
   },
   "outputs": [
    {
     "data": {
      "text/plain": [
       "(64, 64, 8, 8)"
      ]
     },
     "execution_count": 5,
     "metadata": {},
     "output_type": "execute_result"
    }
   ],
   "source": [
    "jpeg.Y.shape"
   ]
  },
  {
   "cell_type": "markdown",
   "id": "8ef969a4",
   "metadata": {
    "slideshow": {
     "slide_type": "skip"
    }
   },
   "source": [
    "This is obtain the top-left luminance $8\\times8$ block as follows."
   ]
  },
  {
   "cell_type": "code",
   "execution_count": 6,
   "id": "bc862554",
   "metadata": {
    "slideshow": {
     "slide_type": "subslide"
    }
   },
   "outputs": [
    {
     "data": {
      "text/plain": [
       "array([[-18,  -5,  -6,   0,   0,   0,   0,   0],\n",
       "       [  4,  -1,   2,  -1,   1,   0,   0,   0],\n",
       "       [  1,   0,   1,  -1,   0,   0,   0,   0],\n",
       "       [  3,  -1,  -1,   0,   0,   0,   0,   0],\n",
       "       [  1,   0,   0,   0,   0,   0,   0,   0],\n",
       "       [  0,   0,   0,   0,   0,   0,   0,   0],\n",
       "       [  0,   0,   0,   0,   0,   0,   0,   0],\n",
       "       [  0,   0,   0,   0,   0,   0,   0,   0]], dtype=int16)"
      ]
     },
     "execution_count": 6,
     "metadata": {},
     "output_type": "execute_result"
    }
   ],
   "source": [
    "jpeg.Y[0, 0]  # top-left block of luminance"
   ]
  },
  {
   "cell_type": "markdown",
   "id": "e861edc5",
   "metadata": {
    "slideshow": {
     "slide_type": "skip"
    }
   },
   "source": [
    "The subbands, e.g. 01, can be acquired by a simple expression."
   ]
  },
  {
   "cell_type": "code",
   "execution_count": 7,
   "id": "cc3b423b",
   "metadata": {
    "slideshow": {
     "slide_type": "subslide"
    }
   },
   "outputs": [
    {
     "data": {
      "text/plain": [
       "array([[ -5,   0,  -2, ...,  -2,   6, -17],\n",
       "       [ -7,   1,   3, ..., -44,  55,   6],\n",
       "       [-13,   9,  -5, ...,  27,   9,  -4],\n",
       "       ...,\n",
       "       [ 48,  -7,   4, ...,   3,  11,  -3],\n",
       "       [ 35,   3,   6, ...,  11,   1,  -2],\n",
       "       [ 29,   2,   5, ...,  13,   0,   1]], dtype=int16)"
      ]
     },
     "execution_count": 7,
     "metadata": {},
     "output_type": "execute_result"
    }
   ],
   "source": [
    "jpeg.Y[:, :, 0, 1]  # 01 subband of luminance"
   ]
  },
  {
   "cell_type": "markdown",
   "id": "7b3c9178",
   "metadata": {
    "slideshow": {
     "slide_type": "skip"
    }
   },
   "source": [
    "Subband 00 is called DC, all the others are called AC."
   ]
  },
  {
   "cell_type": "markdown",
   "id": "5a5a7959",
   "metadata": {
    "slideshow": {
     "slide_type": "slide"
    }
   },
   "source": [
    "## Chrominance is often subsampled."
   ]
  },
  {
   "cell_type": "markdown",
   "id": "dc56824b",
   "metadata": {
    "slideshow": {
     "slide_type": "skip"
    }
   },
   "source": [
    "Get the chrominance (red and blue) with `Cb` and `Cr`."
   ]
  },
  {
   "cell_type": "code",
   "execution_count": 8,
   "id": "00d1ae66",
   "metadata": {
    "slideshow": {
     "slide_type": "fragment"
    }
   },
   "outputs": [
    {
     "data": {
      "text/plain": [
       "(32, 32, 8, 8)"
      ]
     },
     "execution_count": 8,
     "metadata": {},
     "output_type": "execute_result"
    }
   ],
   "source": [
    "jpeg.Cb.shape"
   ]
  },
  {
   "cell_type": "code",
   "execution_count": 9,
   "id": "1e4fc6cf",
   "metadata": {
    "slideshow": {
     "slide_type": "fragment"
    }
   },
   "outputs": [
    {
     "data": {
      "text/plain": [
       "(32, 32, 8, 8)"
      ]
     },
     "execution_count": 9,
     "metadata": {},
     "output_type": "execute_result"
    }
   ],
   "source": [
    "jpeg.Cr.shape"
   ]
  },
  {
   "cell_type": "code",
   "execution_count": 10,
   "id": "fa612ddf",
   "metadata": {
    "slideshow": {
     "slide_type": "fragment"
    }
   },
   "outputs": [
    {
     "data": {
      "text/plain": [
       "(64, 64, 8, 8)"
      ]
     },
     "execution_count": 10,
     "metadata": {},
     "output_type": "execute_result"
    }
   ],
   "source": [
    "jpeg.Y.shape"
   ]
  },
  {
   "cell_type": "markdown",
   "id": "916c1768",
   "metadata": {
    "slideshow": {
     "slide_type": "skip"
    }
   },
   "source": [
    "You get the top-left chrominance $8\\times8$ block similarly to before."
   ]
  },
  {
   "cell_type": "code",
   "execution_count": 11,
   "id": "a2af8e25",
   "metadata": {
    "slideshow": {
     "slide_type": "subslide"
    }
   },
   "outputs": [
    {
     "data": {
      "text/plain": [
       "array([[-13,  -4,  -2,   1,   0,   0,   0,   0],\n",
       "       [  0,   0,   0,   0,   0,   0,   0,   0],\n",
       "       [ -1,   2,   0,   0,   0,   0,   0,   0],\n",
       "       [  0,  -1,   0,   0,   0,   0,   0,   0],\n",
       "       [  0,   0,   0,   0,   0,   0,   0,   0],\n",
       "       [  0,   0,   0,   0,   0,   0,   0,   0],\n",
       "       [  0,   0,   0,   0,   0,   0,   0,   0],\n",
       "       [  0,   0,   0,   0,   0,   0,   0,   0]], dtype=int16)"
      ]
     },
     "execution_count": 11,
     "metadata": {},
     "output_type": "execute_result"
    }
   ],
   "source": [
    "jpeg.Cb[0, 0]  # top-left block of blue chrominance"
   ]
  },
  {
   "cell_type": "markdown",
   "id": "69006797",
   "metadata": {
    "slideshow": {
     "slide_type": "skip"
    }
   },
   "source": [
    "The chrominance channels are often subsampled, which further reduces the file size.\n",
    "\n",
    "The sampling factor can be derived from the shapes, or accessed directly as `samp_factor`."
   ]
  },
  {
   "cell_type": "code",
   "execution_count": 12,
   "id": "c69fcafa",
   "metadata": {
    "slideshow": {
     "slide_type": "subslide"
    }
   },
   "outputs": [
    {
     "data": {
      "text/plain": [
       "0.5"
      ]
     },
     "execution_count": 12,
     "metadata": {},
     "output_type": "execute_result"
    }
   ],
   "source": [
    "jpeg.Cb.shape[0] / jpeg.Y.shape[0]"
   ]
  },
  {
   "cell_type": "code",
   "execution_count": 13,
   "id": "c85899a4",
   "metadata": {
    "slideshow": {
     "slide_type": "fragment"
    }
   },
   "outputs": [
    {
     "data": {
      "text/plain": [
       "array([[2, 2],\n",
       "       [1, 1],\n",
       "       [1, 1]], dtype=int32)"
      ]
     },
     "execution_count": 13,
     "metadata": {},
     "output_type": "execute_result"
    }
   ],
   "source": [
    "jpeg.samp_factor  # sampling factors of chrominances"
   ]
  },
  {
   "cell_type": "markdown",
   "id": "df67f2bc",
   "metadata": {
    "slideshow": {
     "slide_type": "slide"
    }
   },
   "source": [
    "## Quality factor is an abstraction for a quantization table (QT)."
   ]
  },
  {
   "cell_type": "markdown",
   "id": "797be47e",
   "metadata": {
    "slideshow": {
     "slide_type": "skip"
    }
   },
   "source": [
    "The quantization tables can be accessed via the image's `qt` property."
   ]
  },
  {
   "cell_type": "code",
   "execution_count": 14,
   "id": "1bbe8fb7",
   "metadata": {
    "slideshow": {
     "slide_type": "subslide"
    }
   },
   "outputs": [
    {
     "data": {
      "text/plain": [
       "array([[[ 8,  6,  5,  8, 12, 20, 26, 31],\n",
       "        [ 6,  6,  7, 10, 13, 29, 30, 28],\n",
       "        [ 7,  7,  8, 12, 20, 29, 35, 28],\n",
       "        [ 7,  9, 11, 15, 26, 44, 40, 31],\n",
       "        [ 9, 11, 19, 28, 34, 55, 52, 39],\n",
       "        [12, 18, 28, 32, 41, 52, 57, 46],\n",
       "        [25, 32, 39, 44, 52, 61, 60, 51],\n",
       "        [36, 46, 48, 49, 56, 50, 52, 50]],\n",
       "\n",
       "       [[ 9,  9, 12, 24, 50, 50, 50, 50],\n",
       "        [ 9, 11, 13, 33, 50, 50, 50, 50],\n",
       "        [12, 13, 28, 50, 50, 50, 50, 50],\n",
       "        [24, 33, 50, 50, 50, 50, 50, 50],\n",
       "        [50, 50, 50, 50, 50, 50, 50, 50],\n",
       "        [50, 50, 50, 50, 50, 50, 50, 50],\n",
       "        [50, 50, 50, 50, 50, 50, 50, 50],\n",
       "        [50, 50, 50, 50, 50, 50, 50, 50]]], dtype=uint16)"
      ]
     },
     "execution_count": 14,
     "metadata": {},
     "output_type": "execute_result"
    }
   ],
   "source": [
    "jpeg.qt  # quantization tables at QF75"
   ]
  },
  {
   "cell_type": "markdown",
   "id": "188ce5b0",
   "metadata": {
    "slideshow": {
     "slide_type": "skip"
    }
   },
   "source": [
    "There are two quantization tables for three components (Y, Cb, Cr). Cb and Cr components can share the same quantization table."
   ]
  },
  {
   "cell_type": "code",
   "execution_count": 15,
   "id": "0e70c8c6",
   "metadata": {
    "slideshow": {
     "slide_type": "subslide"
    }
   },
   "outputs": [
    {
     "data": {
      "text/plain": [
       "(2, 8, 8)"
      ]
     },
     "execution_count": 15,
     "metadata": {},
     "output_type": "execute_result"
    }
   ],
   "source": [
    "jpeg.qt.shape"
   ]
  },
  {
   "cell_type": "code",
   "execution_count": 16,
   "id": "bda03c04",
   "metadata": {
    "slideshow": {
     "slide_type": "fragment"
    }
   },
   "outputs": [
    {
     "data": {
      "text/plain": [
       "array([0, 1, 1])"
      ]
     },
     "execution_count": 16,
     "metadata": {},
     "output_type": "execute_result"
    }
   ],
   "source": [
    "jpeg.quant_tbl_no  # assignment of QTs"
   ]
  },
  {
   "cell_type": "markdown",
   "id": "c2bc7f2a",
   "metadata": {
    "slideshow": {
     "slide_type": "skip"
    }
   },
   "source": [
    "In some implementations, the quality factor basically scales the quantization table. A high quality factor leads to small-valued quantization tables. A lower quality factor corresponds to more quantization, i.e., higher quantization table entries."
   ]
  },
  {
   "cell_type": "code",
   "execution_count": 17,
   "id": "a8fdbf6c",
   "metadata": {
    "slideshow": {
     "slide_type": "subslide"
    }
   },
   "outputs": [
    {
     "data": {
      "text/plain": [
       "array([[[ 3,  2,  2,  3,  5,  8, 10, 12],\n",
       "        [ 2,  2,  3,  4,  5, 12, 12, 11],\n",
       "        [ 3,  3,  3,  5,  8, 11, 14, 11],\n",
       "        [ 3,  3,  4,  6, 10, 17, 16, 12],\n",
       "        [ 4,  4,  7, 11, 14, 22, 21, 15],\n",
       "        [ 5,  7, 11, 13, 16, 21, 23, 18],\n",
       "        [10, 13, 16, 17, 21, 24, 24, 20],\n",
       "        [14, 18, 19, 20, 22, 20, 21, 20]],\n",
       "\n",
       "       [[ 3,  4,  5,  9, 20, 20, 20, 20],\n",
       "        [ 4,  4,  5, 13, 20, 20, 20, 20],\n",
       "        [ 5,  5, 11, 20, 20, 20, 20, 20],\n",
       "        [ 9, 13, 20, 20, 20, 20, 20, 20],\n",
       "        [20, 20, 20, 20, 20, 20, 20, 20],\n",
       "        [20, 20, 20, 20, 20, 20, 20, 20],\n",
       "        [20, 20, 20, 20, 20, 20, 20, 20],\n",
       "        [20, 20, 20, 20, 20, 20, 20, 20]]], dtype=uint16)"
      ]
     },
     "execution_count": 17,
     "metadata": {},
     "output_type": "execute_result"
    }
   ],
   "source": [
    "# QT at QF90\n",
    "jpeglib.from_spatial(RGB).write_spatial('cover_qf90.jpeg', qt=90)\n",
    "jpeg_q90 = jpeglib.read_dct('cover_qf90.jpeg')\n",
    "jpeg_q90.qt"
   ]
  },
  {
   "cell_type": "markdown",
   "id": "9d8055f5",
   "metadata": {
    "slideshow": {
     "slide_type": "skip"
    }
   },
   "source": [
    "A higher quality factor means the values in quantization become lower."
   ]
  },
  {
   "cell_type": "code",
   "execution_count": 18,
   "id": "67b40678",
   "metadata": {
    "slideshow": {
     "slide_type": "subslide"
    }
   },
   "outputs": [
    {
     "data": {
      "text/plain": [
       "array([[[1, 1, 1, 1, 1, 1, 1, 1],\n",
       "        [1, 1, 1, 1, 1, 1, 1, 1],\n",
       "        [1, 1, 1, 1, 1, 1, 1, 1],\n",
       "        [1, 1, 1, 1, 1, 1, 1, 1],\n",
       "        [1, 1, 1, 1, 1, 1, 1, 1],\n",
       "        [1, 1, 1, 1, 1, 1, 1, 1],\n",
       "        [1, 1, 1, 1, 1, 1, 1, 1],\n",
       "        [1, 1, 1, 1, 1, 1, 1, 1]],\n",
       "\n",
       "       [[1, 1, 1, 1, 1, 1, 1, 1],\n",
       "        [1, 1, 1, 1, 1, 1, 1, 1],\n",
       "        [1, 1, 1, 1, 1, 1, 1, 1],\n",
       "        [1, 1, 1, 1, 1, 1, 1, 1],\n",
       "        [1, 1, 1, 1, 1, 1, 1, 1],\n",
       "        [1, 1, 1, 1, 1, 1, 1, 1],\n",
       "        [1, 1, 1, 1, 1, 1, 1, 1],\n",
       "        [1, 1, 1, 1, 1, 1, 1, 1]]], dtype=uint16)"
      ]
     },
     "execution_count": 18,
     "metadata": {},
     "output_type": "execute_result"
    }
   ],
   "source": [
    "# QT at QF100\n",
    "jpeglib.from_spatial(RGB).write_spatial('cover_qf100.jpeg', qt=100)\n",
    "jpeg_q100 = jpeglib.read_dct('cover_qf100.jpeg')\n",
    "jpeg_q100.qt"
   ]
  },
  {
   "cell_type": "markdown",
   "id": "c563ca3f",
   "metadata": {
    "slideshow": {
     "slide_type": "skip"
    }
   },
   "source": [
    "Quality factor 100 correspond to QTs with all ones."
   ]
  },
  {
   "cell_type": "markdown",
   "id": "aa022dc3",
   "metadata": {
    "slideshow": {
     "slide_type": "slide"
    }
   },
   "source": [
    "## DCT coefficients follow a Laplace distribution"
   ]
  },
  {
   "cell_type": "markdown",
   "id": "923c2a07",
   "metadata": {
    "slideshow": {
     "slide_type": "skip"
    }
   },
   "source": [
    "The distribution of DCT coefficients is symmetric around $0$ and usually follows a Laplace distribution."
   ]
  },
  {
   "cell_type": "code",
   "execution_count": 19,
   "id": "382ea6e1",
   "metadata": {
    "slideshow": {
     "slide_type": "subslide"
    }
   },
   "outputs": [
    {
     "data": {
      "image/png": "[encoded data removed]",
      "text/plain": [
       "<Figure size 640x480 with 1 Axes>"
      ]
     },
     "metadata": {},
     "output_type": "display_data"
    }
   ],
   "source": [
    "import matplotlib.pyplot as plt\n",
    "N = 40\n",
    "plt.hist(jpeg_q100.Y.flatten(), bins=N, range=(-N//2-.5, N//2-.5));"
   ]
  },
  {
   "cell_type": "markdown",
   "id": "f480454a",
   "metadata": {
    "slideshow": {
     "slide_type": "skip"
    }
   },
   "source": [
    "At lower QFs, we observe much more zeros."
   ]
  },
  {
   "cell_type": "code",
   "execution_count": 20,
   "id": "770eea74",
   "metadata": {
    "slideshow": {
     "slide_type": "subslide"
    }
   },
   "outputs": [
    {
     "data": {
      "image/png": "[encoded data removed]",
      "text/plain": [
       "<Figure size 640x480 with 1 Axes>"
      ]
     },
     "metadata": {},
     "output_type": "display_data"
    }
   ],
   "source": [
    "N = 40\n",
    "plt.hist(jpeg_q90.Y.flatten(), bins=N, range=(-N//2-.5, N//2-.5));"
   ]
  },
  {
   "cell_type": "markdown",
   "id": "bfecf32a",
   "metadata": {
    "slideshow": {
     "slide_type": "slide"
    }
   },
   "source": [
    "## Hands-on: Double compression\n",
    "\n",
    "- What can you spot in DCT histogram of a double-compressed image?\n",
    "\n",
    "<div style=\"text-align: center\">\n",
    "<img src=\"https://github.com/uibk-uncover/prague-jpeg-demo/blob/main/img/2_dct_histogram.png?raw=true\" style=\"height: 15em\"/>\n",
    "</div>"
   ]
  },
  {
   "cell_type": "markdown",
   "id": "e3011c2d",
   "metadata": {
    "slideshow": {
     "slide_type": "slide"
    }
   },
   "source": [
    "### Solution"
   ]
  },
  {
   "cell_type": "markdown",
   "id": "efb049ef",
   "metadata": {
    "slideshow": {
     "slide_type": "skip"
    }
   },
   "source": [
    "Double compression with different quality factors leaves comb-like traces."
   ]
  },
  {
   "cell_type": "code",
   "execution_count": 21,
   "id": "ad1806e0",
   "metadata": {
    "slideshow": {
     "slide_type": "fragment"
    }
   },
   "outputs": [],
   "source": [
    "# compress with JPEG at QF95\n",
    "jpeglib.from_spatial(RGB).write_spatial('cover_qf95.jpeg', qt=95)\n",
    "# decompress JPEG\n",
    "im = jpeglib.read_spatial('cover_qf95.jpeg')\n",
    "# compress again at QF98\n",
    "im.write_spatial('cover_qf95_qf98.jpeg', qt=98)"
   ]
  },
  {
   "cell_type": "code",
   "execution_count": 22,
   "id": "cc51aed1",
   "metadata": {
    "slideshow": {
     "slide_type": "subslide"
    }
   },
   "outputs": [
    {
     "data": {
      "image/png": "[encoded data removed]",
      "text/plain": [
       "<Figure size 640x480 with 1 Axes>"
      ]
     },
     "metadata": {},
     "output_type": "display_data"
    }
   ],
   "source": [
    "jpeg = jpeglib.read_dct('cover_qf95_qf98.jpeg')\n",
    "N = 60\n",
    "plt.hist(jpeg.Y.flatten(), bins=N, range=(-N//2-.5, N//2-.5));"
   ]
  },
  {
   "cell_type": "code",
   "execution_count": 23,
   "id": "a2c1d931",
   "metadata": {
    "slideshow": {
     "slide_type": "subslide"
    }
   },
   "outputs": [
    {
     "data": {
      "image/png": "[encoded data removed]",
      "text/plain": [
       "<Figure size 640x480 with 1 Axes>"
      ]
     },
     "metadata": {},
     "output_type": "display_data"
    }
   ],
   "source": [
    "# Removing the zero bin to zoom in closer on the other bins.\n",
    "plt.hist(jpeg.Y[jpeg.Y != 0].flatten(), bins=N, range=(-N//2-.5, N//2-.5));"
   ]
  },
  {
   "cell_type": "markdown",
   "id": "d9a3019b",
   "metadata": {
    "slideshow": {
     "slide_type": "skip"
    }
   },
   "source": [
    "## Extension: More features of jpeglib"
   ]
  },
  {
   "cell_type": "markdown",
   "id": "25fee0f0",
   "metadata": {
    "slideshow": {
     "slide_type": "skip"
    }
   },
   "source": [
    "JPEG have typically YCbCr color space. But it can be also YCCK, or RGB."
   ]
  },
  {
   "cell_type": "code",
   "execution_count": 24,
   "id": "96f2cb1f",
   "metadata": {
    "slideshow": {
     "slide_type": "skip"
    }
   },
   "outputs": [
    {
     "data": {
      "text/plain": [
       "JCS_YCbCr"
      ]
     },
     "execution_count": 24,
     "metadata": {},
     "output_type": "execute_result"
    }
   ],
   "source": [
    "jpeg.jpeg_color_space"
   ]
  },
  {
   "cell_type": "markdown",
   "id": "f84306fa",
   "metadata": {
    "slideshow": {
     "slide_type": "skip"
    }
   },
   "source": [
    "The DCT coefficients are compressed losslessly using Huffman-like encoding."
   ]
  },
  {
   "cell_type": "code",
   "execution_count": 25,
   "id": "0a53290c",
   "metadata": {
    "slideshow": {
     "slide_type": "skip"
    }
   },
   "outputs": [
    {
     "data": {
      "text/plain": [
       "[{'AC': <Huffman 0,0,2,1,3,...>, 'DC': <Huffman 0,0,1,5,1,...>},\n",
       " {'AC': <Huffman 0,0,2,1,2,...>, 'DC': <Huffman 0,0,3,1,1,...>},\n",
       " {},\n",
       " {}]"
      ]
     },
     "execution_count": 25,
     "metadata": {},
     "output_type": "execute_result"
    }
   ],
   "source": [
    "jpeg.huffmans"
   ]
  },
  {
   "cell_type": "markdown",
   "id": "aa1fba31",
   "metadata": {
    "slideshow": {
     "slide_type": "skip"
    }
   },
   "source": [
    "JPEG metadata and thumbnail are stored in *markers*."
   ]
  },
  {
   "cell_type": "code",
   "execution_count": 26,
   "id": "772abe8d",
   "metadata": {
    "slideshow": {
     "slide_type": "skip"
    }
   },
   "outputs": [
    {
     "data": {
      "text/plain": [
       "[<Marker JPEG_APP0 N=14>, <Marker JPEG_APP0 N=14>]"
      ]
     },
     "execution_count": 26,
     "metadata": {},
     "output_type": "execute_result"
    }
   ],
   "source": [
    "jpeg.markers"
   ]
  },
  {
   "cell_type": "markdown",
   "id": "41c7fe91",
   "metadata": {
    "slideshow": {
     "slide_type": "skip"
    }
   },
   "source": [
    "Most JPEGs use the *sequential* compression mode. However, JPEGs can also be stored in *progressive* mode."
   ]
  },
  {
   "cell_type": "code",
   "execution_count": 27,
   "id": "06b2edaf",
   "metadata": {
    "slideshow": {
     "slide_type": "skip"
    }
   },
   "outputs": [
    {
     "data": {
      "text/plain": [
       "False"
      ]
     },
     "execution_count": 27,
     "metadata": {},
     "output_type": "execute_result"
    }
   ],
   "source": [
    "jpeg.progressive_mode"
   ]
  },
  {
   "cell_type": "markdown",
   "id": "d205ff27",
   "metadata": {
    "slideshow": {
     "slide_type": "skip"
    }
   },
   "source": [
    "By default, MozJPEG produces progressive JPEGs."
   ]
  },
  {
   "cell_type": "code",
   "execution_count": 28,
   "id": "6c034699",
   "metadata": {
    "slideshow": {
     "slide_type": "skip"
    }
   },
   "outputs": [],
   "source": [
    "jpeglib.version.set('mozjpeg403')\n",
    "jpeglib.from_spatial(RGB).write_spatial('cover_moz.jpeg', qt=98)\n",
    "jpeg_moz = jpeglib.read_spatial('cover_moz.jpeg')"
   ]
  },
  {
   "cell_type": "code",
   "execution_count": 29,
   "id": "6975a935",
   "metadata": {
    "slideshow": {
     "slide_type": "skip"
    }
   },
   "outputs": [
    {
     "data": {
      "text/plain": [
       "True"
      ]
     },
     "execution_count": 29,
     "metadata": {},
     "output_type": "execute_result"
    }
   ],
   "source": [
    "jpeg_moz.progressive_mode"
   ]
  },
  {
   "cell_type": "markdown",
   "id": "23946b29",
   "metadata": {
    "slideshow": {
     "slide_type": "skip"
    }
   },
   "source": [
    "Moreover, MozJPEG performs an additional optimization called Trellis optimization, which allows for further reduction of the file size. At the same time, however, Trellis optimization introduces artifacts in the DCT histogram."
   ]
  },
  {
   "cell_type": "code",
   "execution_count": 30,
   "id": "9142bb82",
   "metadata": {
    "slideshow": {
     "slide_type": "skip"
    }
   },
   "outputs": [
    {
     "data": {
      "text/plain": [
       "[<Scan 0,0,0,0: [0 1 2]>,\n",
       " <Scan 1,5,0,3: [0]>,\n",
       " <Scan 6,63,0,3: [0]>,\n",
       " <Scan 1,63,3,2: [0]>,\n",
       " <Scan 1,63,0,2: [1]>,\n",
       " <Scan 1,63,0,2: [2]>,\n",
       " <Scan 1,63,2,1: [0]>,\n",
       " <Scan 1,63,2,1: [1]>,\n",
       " <Scan 1,63,2,1: [2]>,\n",
       " <Scan 1,63,1,0: [0]>,\n",
       " <Scan 1,63,1,0: [1]>,\n",
       " <Scan 1,63,1,0: [2]>]"
      ]
     },
     "execution_count": 30,
     "metadata": {},
     "output_type": "execute_result"
    }
   ],
   "source": [
    "jpeg_moz = jpeglib.read_spatial('cover_moz.jpeg', buffered=True)\n",
    "jpeg_moz.scans # View the individual scans of a progressively-stored JPEG image"
   ]
  },
  {
   "cell_type": "markdown",
   "id": "42841829",
   "metadata": {
    "slideshow": {
     "slide_type": "skip"
    }
   },
   "source": [
    "Trellis quantization leaves *vampire-teeth* artifacts in the DCT histogram. The origin of these artifacts is described in [Hofer and Böhme, \"Progressive JPEGs in the Wild:\n",
    "Implications for Information Hiding and Forensics\", ACM IH&MMSec 2023](https://informationsecurity.uibk.ac.at/pdfs/HB2023_IHMMSEC.pdf)."
   ]
  },
  {
   "cell_type": "code",
   "execution_count": 31,
   "id": "73df7997",
   "metadata": {
    "slideshow": {
     "slide_type": "skip"
    }
   },
   "outputs": [
    {
     "data": {
      "image/png": "[encoded data removed]",
      "text/plain": [
       "<Figure size 640x480 with 1 Axes>"
      ]
     },
     "metadata": {},
     "output_type": "display_data"
    }
   ],
   "source": [
    "ZIGZAG_ORDER = [\n",
    "    0, 1, 8, 16, 9, 2, 3, 10, 17, 24, 32, 25, 18, 11, 4, 5,\n",
    "    12, 19, 26, 33, 40, 48, 41, 34, 27, 20, 13, 6, 7, 14, 21, 28,\n",
    "    35, 42, 49, 56, 57, 50, 43, 36, 29, 22, 15, 23, 30, 37, 44, 51,\n",
    "    58, 59, 52, 45, 38, 31, 39, 46, 53, 60, 61, 54, 47, 55, 62, 63,\n",
    "]\n",
    "jpegP = jpeglib.read_dct('cover_moz.jpeg')\n",
    "Y = jpegP.Y.reshape(-1, 64)[..., ZIGZAG_ORDER]\n",
    "N = 100\n",
    "plt.hist(Y[:, 1:8].flatten(), bins=N, range=(-N//2-.5, N//2-.5));"
   ]
  }
 ],
 "metadata": {
  "celltoolbar": "Slideshow",
  "kernelspec": {
   "display_name": "Python 3 (ipykernel)",
   "language": "python",
   "name": "python3"
  },
  "language_info": {
   "codemirror_mode": {
    "name": "ipython",
    "version": 3
   },
   "file_extension": ".py",
   "mimetype": "text/x-python",
   "name": "python",
   "nbconvert_exporter": "python",
   "pygments_lexer": "ipython3",
   "version": "3.8.16"
  }
 },
 "nbformat": 4,
 "nbformat_minor": 5
}
