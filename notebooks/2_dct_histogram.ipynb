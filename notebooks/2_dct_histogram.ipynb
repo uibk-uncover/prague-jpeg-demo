{
 "cells": [
  {
   "cell_type": "markdown",
   "id": "830c94c8",
   "metadata": {},
   "source": [
    "# Introduction to JPEG Compression: Practical tools\n",
    "\n",
    "**Author:** Martin Beneš"
   ]
  },
  {
   "cell_type": "markdown",
   "id": "f3ce0a4c",
   "metadata": {},
   "source": [
    "## Notebook setup"
   ]
  },
  {
   "cell_type": "markdown",
   "id": "2b65a2b4",
   "metadata": {},
   "source": [
    "First, install `jpeglib` package."
   ]
  },
  {
   "cell_type": "code",
   "execution_count": 1,
   "id": "a9d004fb",
   "metadata": {},
   "outputs": [
    {
     "name": "stdout",
     "output_type": "stream",
     "text": [
      "Collecting git+https://github.com/martinbenes1996/jpeglib@dev\n",
      "  Cloning https://github.com/martinbenes1996/jpeglib (to revision dev) to /private/var/folders/s_/c0vzk_fd5bz_rj5r2npp608m0000gn/T/pip-req-build-a6e17wix\n",
      "  Running command git clone --filter=blob:none --quiet https://github.com/martinbenes1996/jpeglib /private/var/folders/s_/c0vzk_fd5bz_rj5r2npp608m0000gn/T/pip-req-build-a6e17wix\n",
      "  Running command git checkout -b dev --track origin/dev\n",
      "  Switched to a new branch 'dev'\n",
      "  branch 'dev' set up to track 'origin/dev'.\n",
      "  Resolved https://github.com/martinbenes1996/jpeglib to commit cdc36b5c57ee255cc1d327dfb52c5803b3bf4b9a\n",
      "  Preparing metadata (setup.py) ... \u001b[?25ldone\n",
      "\u001b[?25hRequirement already satisfied: wheel>0.30.0 in /opt/miniconda3/envs/dev/lib/python3.8/site-packages (from jpeglib==0.13.0) (0.38.4)\n",
      "Requirement already satisfied: numpy>=1.18.0 in /opt/miniconda3/envs/dev/lib/python3.8/site-packages (from jpeglib==0.13.0) (1.21.6)\n"
     ]
    }
   ],
   "source": [
    "!pip install git+https://github.com/martinbenes1996/jpeglib@dev  # takes ~5min\n",
    "#!pip install jpeglib  # replace once scan script feature is deployed"
   ]
  },
  {
   "cell_type": "markdown",
   "id": "a881798a",
   "metadata": {},
   "source": [
    "We use again `00001.tif` from ALASKA database as a sample image."
   ]
  },
  {
   "cell_type": "code",
   "execution_count": 2,
   "id": "5dcb41dc",
   "metadata": {},
   "outputs": [
    {
     "name": "stderr",
     "output_type": "stream",
     "text": [
      "/opt/miniconda3/envs/dev/lib/python3.8/site-packages/urllib3/connectionpool.py:1056: InsecureRequestWarning: Unverified HTTPS request is being made to host 'alaska.utt.fr'. Adding certificate verification is strongly advised. See: https://urllib3.readthedocs.io/en/1.26.x/advanced-usage.html#ssl-warnings\n",
      "  warnings.warn(\n"
     ]
    }
   ],
   "source": [
    "# download 00001.tif from ALASKA website\n",
    "import requests\n",
    "res = requests.get('http://alaska.utt.fr/DATASETS/ALASKA_v2_TIFF_512_COLOR/00001.tif', verify=False)\n",
    "with open('00001.tif', 'wb') as f:\n",
    "    f.write(res.content)"
   ]
  },
  {
   "cell_type": "markdown",
   "id": "9ea71c8b",
   "metadata": {},
   "source": [
    "## In JPEG we can work losslessly with DCT coefficients."
   ]
  },
  {
   "cell_type": "markdown",
   "id": "0fcb8aa8",
   "metadata": {},
   "source": [
    "We start with JPEG-compressed file `cover_qf75.jpeg`."
   ]
  },
  {
   "cell_type": "code",
   "execution_count": 3,
   "id": "6b987aed",
   "metadata": {},
   "outputs": [],
   "source": [
    "import jpeglib\n",
    "import numpy as np\n",
    "from PIL import Image\n",
    "RGB = np.array(Image.open('00001.tif'))  # load RGB\n",
    "jpeglib.from_spatial(RGB).write_spatial('cover_qf75.jpeg', qt=75)  # compress with JPEG"
   ]
  },
  {
   "cell_type": "markdown",
   "id": "d816d867",
   "metadata": {},
   "source": [
    "We can losslessly read and write DCT coefficients."
   ]
  },
  {
   "cell_type": "code",
   "execution_count": 4,
   "id": "9b194aaf",
   "metadata": {},
   "outputs": [],
   "source": [
    "jpeg = jpeglib.read_dct('cover_qf75.jpeg')  # read JPEG in DCT domain"
   ]
  },
  {
   "cell_type": "markdown",
   "id": "3e9df6b5",
   "metadata": {},
   "source": [
    "The luminance tensor can be accessed with `Y`."
   ]
  },
  {
   "cell_type": "code",
   "execution_count": 5,
   "id": "d1d75078",
   "metadata": {},
   "outputs": [
    {
     "data": {
      "text/plain": [
       "array([[[[ -18,   -5,   -6, ...,    0,    0,    0],\n",
       "         [   4,   -1,    2, ...,    0,    0,    0],\n",
       "         [   1,    0,    1, ...,    0,    0,    0],\n",
       "         ...,\n",
       "         [   0,    0,    0, ...,    0,    0,    0],\n",
       "         [   0,    0,    0, ...,    0,    0,    0],\n",
       "         [   0,    0,    0, ...,    0,    0,    0]],\n",
       "\n",
       "        [[ -10,    0,    1, ...,    0,    0,    0],\n",
       "         [   8,    5,   -6, ...,    0,    0,    0],\n",
       "         [  -3,    0,    1, ...,    0,    0,    0],\n",
       "         ...,\n",
       "         [  -1,    0,    0, ...,    0,    0,    0],\n",
       "         [   0,    0,    0, ...,    0,    0,    0],\n",
       "         [   0,    0,    0, ...,    0,    0,    0]],\n",
       "\n",
       "        [[  -4,   -2,    8, ...,    0,    0,    0],\n",
       "         [   0,   -1,   -2, ...,    0,    0,    0],\n",
       "         [   1,    0,   -1, ...,    0,    0,    0],\n",
       "         ...,\n",
       "         [   0,    0,    0, ...,    0,    0,    0],\n",
       "         [   0,    0,    0, ...,    0,    0,    0],\n",
       "         [   0,    0,    0, ...,    0,    0,    0]],\n",
       "\n",
       "        ...,\n",
       "\n",
       "        [[ -83,   -2,    4, ...,    0,    0,    0],\n",
       "         [  -9,    3,   -1, ...,    0,    0,    0],\n",
       "         [   3,   -5,    1, ...,    0,    0,    0],\n",
       "         ...,\n",
       "         [   0,    0,    0, ...,    0,    0,    0],\n",
       "         [   0,    0,    0, ...,    0,    0,    0],\n",
       "         [   0,    0,    0, ...,    0,    0,    0]],\n",
       "\n",
       "        [[ -87,    6,   -1, ...,    0,    0,    0],\n",
       "         [  -1,   -3,   -1, ...,    0,    0,    0],\n",
       "         [   0,    0,    2, ...,    0,    0,    0],\n",
       "         ...,\n",
       "         [   0,    0,    0, ...,    0,    0,    0],\n",
       "         [   0,    0,    0, ...,    0,    0,    0],\n",
       "         [   0,    0,    0, ...,    0,    0,    0]],\n",
       "\n",
       "        [[ -76,  -17,    7, ...,   -1,    1,   -1],\n",
       "         [  -6,   -5,    9, ...,   -1,    0,    1],\n",
       "         [  -4,   13,  -12, ...,    1,    0,    0],\n",
       "         ...,\n",
       "         [   0,    0,    0, ...,    0,    0,    0],\n",
       "         [   0,    0,    0, ...,    0,    0,    0],\n",
       "         [   0,    0,    0, ...,    0,    0,    0]]],\n",
       "\n",
       "\n",
       "       [[[ -26,   -7,    5, ...,    0,    0,    0],\n",
       "         [   2,    6,   -1, ...,    0,    0,    0],\n",
       "         [   3,   -3,    4, ...,    0,    0,    0],\n",
       "         ...,\n",
       "         [   0,    0,    0, ...,    0,    0,    0],\n",
       "         [   0,    0,    0, ...,    0,    0,    0],\n",
       "         [   0,    0,    0, ...,    0,    0,    0]],\n",
       "\n",
       "        [[ -10,    1,    1, ...,    0,    0,    0],\n",
       "         [   2,    5,    0, ...,    0,    0,    0],\n",
       "         [  -1,    1,    4, ...,    0,    0,    0],\n",
       "         ...,\n",
       "         [  -1,    0,    0, ...,    0,    0,    0],\n",
       "         [   0,    0,    0, ...,    0,    0,    0],\n",
       "         [   0,    0,    0, ...,    0,    0,    0]],\n",
       "\n",
       "        [[  -1,    3,   -6, ...,    0,    0,    0],\n",
       "         [  -4,   -3,    3, ...,    0,    0,    0],\n",
       "         [  -2,    2,    1, ...,    0,    0,    0],\n",
       "         ...,\n",
       "         [   1,    0,    0, ...,    0,    0,    0],\n",
       "         [   0,    0,    0, ...,    0,    0,    0],\n",
       "         [   0,    0,    0, ...,    0,    0,    0]],\n",
       "\n",
       "        ...,\n",
       "\n",
       "        [[ -49,  -44,   18, ...,   -1,    1,    0],\n",
       "         [  22,  -16,   -5, ...,    1,    0,    0],\n",
       "         [  -5,   -3,   11, ...,   -1,    0,    1],\n",
       "         ...,\n",
       "         [   0,    0,    0, ...,    0,    0,    0],\n",
       "         [   0,    0,    0, ...,    0,    0,    0],\n",
       "         [   0,    0,    0, ...,    0,    0,    0]],\n",
       "\n",
       "        [[ -26,   55,   23, ...,    1,    0,    0],\n",
       "         [ -40,  -24,   13, ...,    0,    0,    0],\n",
       "         [  -6,   -6,  -12, ...,    1,    0,    0],\n",
       "         ...,\n",
       "         [   0,    0,    0, ...,    0,    0,    0],\n",
       "         [   1,    0,    0, ...,    0,    0,    0],\n",
       "         [   0,    0,    0, ...,    0,    0,    0]],\n",
       "\n",
       "        [[ -53,    6,   29, ...,   -1,   -1,    0],\n",
       "         [  -8,    6,   -3, ...,   -1,    1,   -1],\n",
       "         [ -14,  -12,  -19, ...,    1,    1,    1],\n",
       "         ...,\n",
       "         [   0,    1,    0, ...,    0,    0,    0],\n",
       "         [   0,    0,    0, ...,    0,    0,    0],\n",
       "         [   0,    0,    0, ...,    0,    0,    0]]],\n",
       "\n",
       "\n",
       "       [[[  -4,  -13,    4, ...,    0,    0,    0],\n",
       "         [  -4,   -2,    4, ...,    0,    0,    0],\n",
       "         [   1,   -3,   -1, ...,    0,    0,    0],\n",
       "         ...,\n",
       "         [  -2,    0,    0, ...,    0,    0,    0],\n",
       "         [   0,    0,    0, ...,    0,    0,    0],\n",
       "         [   0,    0,    0, ...,    0,    0,    0]],\n",
       "\n",
       "        [[  -3,    9,   -3, ...,    0,    0,    0],\n",
       "         [  -3,    2,   -1, ...,    0,    0,    0],\n",
       "         [  -3,  -12,    0, ...,    0,    0,    0],\n",
       "         ...,\n",
       "         [   0,    0,    0, ...,    0,    0,    0],\n",
       "         [   0,    0,    0, ...,    0,    0,    0],\n",
       "         [   0,    0,    0, ...,    0,    0,    0]],\n",
       "\n",
       "        [[   4,   -5,   -7, ...,    0,    0,    0],\n",
       "         [   4,    4,   -4, ...,    0,    0,    0],\n",
       "         [   5,    6,    1, ...,    0,    0,    0],\n",
       "         ...,\n",
       "         [   0,    0,    0, ...,    0,    0,    0],\n",
       "         [   0,    0,    0, ...,    0,    0,    0],\n",
       "         [   0,    0,    0, ...,    0,    0,    0]],\n",
       "\n",
       "        ...,\n",
       "\n",
       "        [[ -30,   27,  -10, ...,    4,    1,    0],\n",
       "         [ -22,  -33,   19, ...,    1,    1,    0],\n",
       "         [  17,    7,    6, ...,   -1,    0,    0],\n",
       "         ...,\n",
       "         [   1,    0,   -1, ...,    0,    0,    0],\n",
       "         [   0,    0,   -1, ...,    0,    0,    0],\n",
       "         [  -1,    0,    0, ...,    0,    0,    0]],\n",
       "\n",
       "        [[ -71,    9,   -5, ...,    0,    0,    0],\n",
       "         [  34,   17,   -8, ...,    0,    0,    0],\n",
       "         [  16,   17,   -7, ...,    0,    0,    0],\n",
       "         ...,\n",
       "         [   1,    1,    0, ...,    0,    0,    0],\n",
       "         [   0,    0,    0, ...,    0,    0,    0],\n",
       "         [   0,    0,    0, ...,    0,    0,    0]],\n",
       "\n",
       "        [[ -77,   -4,  -10, ...,    0,    0,    0],\n",
       "         [   0,    5,   -6, ...,    0,    0,    0],\n",
       "         [  -1,   -5,    5, ...,   -1,    0,    0],\n",
       "         ...,\n",
       "         [   0,    0,    0, ...,    0,    0,    0],\n",
       "         [   0,    0,    0, ...,    0,    0,    0],\n",
       "         [   0,    0,    0, ...,    0,    0,    0]]],\n",
       "\n",
       "\n",
       "       ...,\n",
       "\n",
       "\n",
       "       [[[ -62,   48,   24, ...,   -1,    0,    0],\n",
       "         [  -8,   -4,    2, ...,    0,    0,    0],\n",
       "         [   5,    2,   -2, ...,    0,    0,    0],\n",
       "         ...,\n",
       "         [  -1,   -1,    0, ...,    0,    0,    0],\n",
       "         [   0,    0,    0, ...,    0,    0,    0],\n",
       "         [   0,    0,    0, ...,    0,    0,    0]],\n",
       "\n",
       "        [[ -94,   -7,    2, ...,    0,    0,    0],\n",
       "         [  -1,   -1,    0, ...,    0,    0,    0],\n",
       "         [  -2,    0,    0, ...,    0,    0,    0],\n",
       "         ...,\n",
       "         [   0,    0,    0, ...,    0,    0,    0],\n",
       "         [   0,    0,    0, ...,    0,    0,    0],\n",
       "         [   0,    0,    0, ...,    0,    0,    0]],\n",
       "\n",
       "        [[ -91,    4,   -6, ...,    0,    0,    0],\n",
       "         [   7,   -2,   -3, ...,    0,    0,    0],\n",
       "         [   0,   -5,   -1, ...,    0,    0,    0],\n",
       "         ...,\n",
       "         [   0,    0,    0, ...,    0,    0,    0],\n",
       "         [   0,    0,    0, ...,    0,    0,    0],\n",
       "         [   0,    0,    0, ...,    0,    0,    0]],\n",
       "\n",
       "        ...,\n",
       "\n",
       "        [[ -69,    3,   -3, ...,    0,    0,    0],\n",
       "         [   3,   -2,    1, ...,    0,    0,    0],\n",
       "         [   0,    0,    0, ...,    0,    0,    0],\n",
       "         ...,\n",
       "         [   0,    0,    0, ...,    0,    0,    0],\n",
       "         [   0,    0,    0, ...,    0,    0,    0],\n",
       "         [   0,    0,    0, ...,    0,    0,    0]],\n",
       "\n",
       "        [[ -95,   11,    2, ...,    0,    0,    0],\n",
       "         [   6,    2,   -1, ...,    0,    0,    0],\n",
       "         [   1,   -1,    0, ...,    0,    0,    0],\n",
       "         ...,\n",
       "         [   0,    0,    0, ...,    0,    0,    0],\n",
       "         [   0,    0,    0, ...,    0,    0,    0],\n",
       "         [   0,    0,    0, ...,    0,    0,    0]],\n",
       "\n",
       "        [[-102,   -3,    1, ...,    0,    0,    0],\n",
       "         [  -3,    0,    0, ...,    0,    0,    0],\n",
       "         [  -1,    0,    0, ...,    0,    0,    0],\n",
       "         ...,\n",
       "         [   0,    0,    0, ...,    0,    0,    0],\n",
       "         [   0,    0,    0, ...,    0,    0,    0],\n",
       "         [   0,    0,    0, ...,    0,    0,    0]]],\n",
       "\n",
       "\n",
       "       [[[ -66,   35,    4, ...,    0,    0,    0],\n",
       "         [   8,   10,    5, ...,    0,    0,    0],\n",
       "         [   2,    3,    2, ...,    0,    0,    0],\n",
       "         ...,\n",
       "         [  -1,   -1,    0, ...,    0,    0,    0],\n",
       "         [   0,    0,    0, ...,    0,    0,    0],\n",
       "         [   0,    0,    0, ...,    0,    0,    0]],\n",
       "\n",
       "        [[-100,    3,    2, ...,    0,    0,    0],\n",
       "         [  -3,    1,    1, ...,    0,    0,    0],\n",
       "         [   1,   -1,   -2, ...,    0,    0,    0],\n",
       "         ...,\n",
       "         [   0,    0,    0, ...,    0,    0,    0],\n",
       "         [   0,    0,    0, ...,    0,    0,    0],\n",
       "         [   0,    0,    0, ...,    0,    0,    0]],\n",
       "\n",
       "        [[-102,    6,   -3, ...,    0,    0,    0],\n",
       "         [   7,    2,   -3, ...,    0,    0,    0],\n",
       "         [   2,   -2,   -2, ...,    0,    0,    0],\n",
       "         ...,\n",
       "         [   0,    0,    0, ...,    0,    0,    0],\n",
       "         [   0,    0,    0, ...,    0,    0,    0],\n",
       "         [   0,    0,    0, ...,    0,    0,    0]],\n",
       "\n",
       "        ...,\n",
       "\n",
       "        [[ -78,   11,   -2, ...,    0,    0,    0],\n",
       "         [   3,   -2,    0, ...,    0,    0,    0],\n",
       "         [   1,   -1,    0, ...,    0,    0,    0],\n",
       "         ...,\n",
       "         [   0,    0,    0, ...,    0,    0,    0],\n",
       "         [   0,    0,    0, ...,    0,    0,    0],\n",
       "         [   0,    0,    0, ...,    0,    0,    0]],\n",
       "\n",
       "        [[-101,    1,    2, ...,    0,    0,    0],\n",
       "         [  -1,    1,    1, ...,    0,    0,    0],\n",
       "         [   1,    1,    0, ...,    0,    0,    0],\n",
       "         ...,\n",
       "         [   0,    0,    0, ...,    0,    0,    0],\n",
       "         [   0,    0,    0, ...,    0,    0,    0],\n",
       "         [   0,    0,    0, ...,    0,    0,    0]],\n",
       "\n",
       "        [[ -98,   -2,   -1, ...,    0,    0,    0],\n",
       "         [  -1,   -1,    0, ...,    0,    0,    0],\n",
       "         [   1,   -1,    1, ...,    0,    0,    0],\n",
       "         ...,\n",
       "         [   0,    0,    0, ...,    0,    0,    0],\n",
       "         [   0,    0,    0, ...,    0,    0,    0],\n",
       "         [   0,    0,    0, ...,    0,    0,    0]]],\n",
       "\n",
       "\n",
       "       [[[ -71,   29,   12, ...,    0,    0,    0],\n",
       "         [  -2,   -4,   -6, ...,    0,    0,    0],\n",
       "         [   3,    6,    3, ...,    0,    0,    0],\n",
       "         ...,\n",
       "         [   0,    0,    0, ...,    0,    0,    0],\n",
       "         [   0,    0,    0, ...,    0,    0,    0],\n",
       "         [   0,    0,    0, ...,    0,    0,    0]],\n",
       "\n",
       "        [[ -97,    2,    1, ...,    0,    0,    0],\n",
       "         [   2,    1,    0, ...,    0,    0,    0],\n",
       "         [  -2,    1,    0, ...,    0,    0,    0],\n",
       "         ...,\n",
       "         [   0,    0,    0, ...,    0,    0,    0],\n",
       "         [   0,    0,    0, ...,    0,    0,    0],\n",
       "         [   0,    0,    0, ...,    0,    0,    0]],\n",
       "\n",
       "        [[-107,    5,    0, ...,    0,    0,    0],\n",
       "         [  -4,   -1,    0, ...,    0,    0,    0],\n",
       "         [   1,   -2,   -1, ...,    0,    0,    0],\n",
       "         ...,\n",
       "         [   0,    0,    0, ...,    0,    0,    0],\n",
       "         [   0,    0,    0, ...,    0,    0,    0],\n",
       "         [   0,    0,    0, ...,    0,    0,    0]],\n",
       "\n",
       "        ...,\n",
       "\n",
       "        [[ -81,   13,    0, ...,    0,    0,    0],\n",
       "         [   2,   -1,    0, ...,    0,    0,    0],\n",
       "         [   0,    0,    0, ...,    0,    0,    0],\n",
       "         ...,\n",
       "         [   0,    0,    0, ...,    0,    0,    0],\n",
       "         [   0,    0,    0, ...,    0,    0,    0],\n",
       "         [   0,    0,    0, ...,    0,    0,    0]],\n",
       "\n",
       "        [[ -97,    0,    0, ...,    0,    0,    0],\n",
       "         [   0,    1,    0, ...,    0,    0,    0],\n",
       "         [   0,    0,    0, ...,    0,    0,    0],\n",
       "         ...,\n",
       "         [   0,    0,    0, ...,    0,    0,    0],\n",
       "         [   0,    0,    0, ...,    0,    0,    0],\n",
       "         [   0,    0,    0, ...,    0,    0,    0]],\n",
       "\n",
       "        [[ -96,    1,    0, ...,    0,    0,    0],\n",
       "         [  -1,    0,    1, ...,    0,    0,    0],\n",
       "         [   1,   -1,    0, ...,    0,    0,    0],\n",
       "         ...,\n",
       "         [   0,    0,    0, ...,    0,    0,    0],\n",
       "         [   0,    0,    0, ...,    0,    0,    0],\n",
       "         [   0,    0,    0, ...,    0,    0,    0]]]], dtype=int16)"
      ]
     },
     "execution_count": 5,
     "metadata": {},
     "output_type": "execute_result"
    }
   ],
   "source": [
    "jpeg.Y  # luminance blocks"
   ]
  },
  {
   "cell_type": "code",
   "execution_count": 6,
   "id": "e638b411",
   "metadata": {},
   "outputs": [
    {
     "data": {
      "text/plain": [
       "(64, 64, 8, 8)"
      ]
     },
     "execution_count": 6,
     "metadata": {},
     "output_type": "execute_result"
    }
   ],
   "source": [
    "jpeg.Y.shape"
   ]
  },
  {
   "cell_type": "markdown",
   "id": "8ef969a4",
   "metadata": {},
   "source": [
    "You obtain the top-left luminance $8\\times8$ block as follows."
   ]
  },
  {
   "cell_type": "code",
   "execution_count": 7,
   "id": "bc862554",
   "metadata": {},
   "outputs": [
    {
     "data": {
      "text/plain": [
       "array([[-18,  -5,  -6,   0,   0,   0,   0,   0],\n",
       "       [  4,  -1,   2,  -1,   1,   0,   0,   0],\n",
       "       [  1,   0,   1,  -1,   0,   0,   0,   0],\n",
       "       [  3,  -1,  -1,   0,   0,   0,   0,   0],\n",
       "       [  1,   0,   0,   0,   0,   0,   0,   0],\n",
       "       [  0,   0,   0,   0,   0,   0,   0,   0],\n",
       "       [  0,   0,   0,   0,   0,   0,   0,   0],\n",
       "       [  0,   0,   0,   0,   0,   0,   0,   0]], dtype=int16)"
      ]
     },
     "execution_count": 7,
     "metadata": {},
     "output_type": "execute_result"
    }
   ],
   "source": [
    "jpeg.Y[0, 0]  # top-left block of luminance"
   ]
  },
  {
   "cell_type": "markdown",
   "id": "e861edc5",
   "metadata": {},
   "source": [
    "The subbands, e.g. 01, can be acquired by a simple expression."
   ]
  },
  {
   "cell_type": "code",
   "execution_count": 8,
   "id": "cc3b423b",
   "metadata": {},
   "outputs": [
    {
     "data": {
      "text/plain": [
       "array([[ -5,   0,  -2, ...,  -2,   6, -17],\n",
       "       [ -7,   1,   3, ..., -44,  55,   6],\n",
       "       [-13,   9,  -5, ...,  27,   9,  -4],\n",
       "       ...,\n",
       "       [ 48,  -7,   4, ...,   3,  11,  -3],\n",
       "       [ 35,   3,   6, ...,  11,   1,  -2],\n",
       "       [ 29,   2,   5, ...,  13,   0,   1]], dtype=int16)"
      ]
     },
     "execution_count": 8,
     "metadata": {},
     "output_type": "execute_result"
    }
   ],
   "source": [
    "jpeg.Y[:, :, 0, 1]  # 01 subband of luminance"
   ]
  },
  {
   "cell_type": "markdown",
   "id": "7b3c9178",
   "metadata": {},
   "source": [
    "Subband 00 is called DC, all the others are called AC."
   ]
  },
  {
   "cell_type": "markdown",
   "id": "5a5a7959",
   "metadata": {},
   "source": [
    "## Chrominance is often subsampled."
   ]
  },
  {
   "cell_type": "markdown",
   "id": "dc56824b",
   "metadata": {},
   "source": [
    "Get the chrominance (red and blue) with `Cb` and `Cr`."
   ]
  },
  {
   "cell_type": "code",
   "execution_count": 9,
   "id": "00d1ae66",
   "metadata": {},
   "outputs": [
    {
     "data": {
      "text/plain": [
       "(32, 32, 8, 8)"
      ]
     },
     "execution_count": 9,
     "metadata": {},
     "output_type": "execute_result"
    }
   ],
   "source": [
    "jpeg.Cb.shape"
   ]
  },
  {
   "cell_type": "code",
   "execution_count": 10,
   "id": "1e4fc6cf",
   "metadata": {},
   "outputs": [
    {
     "data": {
      "text/plain": [
       "(32, 32, 8, 8)"
      ]
     },
     "execution_count": 10,
     "metadata": {},
     "output_type": "execute_result"
    }
   ],
   "source": [
    "jpeg.Cr.shape"
   ]
  },
  {
   "cell_type": "markdown",
   "id": "916c1768",
   "metadata": {},
   "source": [
    "You get the top-left chrominance $8\\times8$ block similarly to before."
   ]
  },
  {
   "cell_type": "code",
   "execution_count": 11,
   "id": "a2af8e25",
   "metadata": {},
   "outputs": [
    {
     "data": {
      "text/plain": [
       "array([[-13,  -4,  -2,   1,   0,   0,   0,   0],\n",
       "       [  0,   0,   0,   0,   0,   0,   0,   0],\n",
       "       [ -1,   2,   0,   0,   0,   0,   0,   0],\n",
       "       [  0,  -1,   0,   0,   0,   0,   0,   0],\n",
       "       [  0,   0,   0,   0,   0,   0,   0,   0],\n",
       "       [  0,   0,   0,   0,   0,   0,   0,   0],\n",
       "       [  0,   0,   0,   0,   0,   0,   0,   0],\n",
       "       [  0,   0,   0,   0,   0,   0,   0,   0]], dtype=int16)"
      ]
     },
     "execution_count": 11,
     "metadata": {},
     "output_type": "execute_result"
    }
   ],
   "source": [
    "jpeg.Cb[0, 0]  # top-left block of blue chrominance"
   ]
  },
  {
   "cell_type": "markdown",
   "id": "69006797",
   "metadata": {},
   "source": [
    "The chrominance channels are often subsampled, which further reduces the file size.\n",
    "\n",
    "The sampling factor can be derived from the shapes, or accessed directly as `samp_factor`."
   ]
  },
  {
   "cell_type": "code",
   "execution_count": 12,
   "id": "c69fcafa",
   "metadata": {},
   "outputs": [
    {
     "data": {
      "text/plain": [
       "0.5"
      ]
     },
     "execution_count": 12,
     "metadata": {},
     "output_type": "execute_result"
    }
   ],
   "source": [
    "jpeg.Cb.shape[0] / jpeg.Y.shape[0]"
   ]
  },
  {
   "cell_type": "code",
   "execution_count": 13,
   "id": "c85899a4",
   "metadata": {},
   "outputs": [
    {
     "data": {
      "text/plain": [
       "array([[2, 2],\n",
       "       [1, 1],\n",
       "       [1, 1]], dtype=int32)"
      ]
     },
     "execution_count": 13,
     "metadata": {},
     "output_type": "execute_result"
    }
   ],
   "source": [
    "jpeg.samp_factor  # sampling factors of chrominances"
   ]
  },
  {
   "cell_type": "markdown",
   "id": "df67f2bc",
   "metadata": {},
   "source": [
    "## Quality factor is an abstraction for a quantization table (QT)."
   ]
  },
  {
   "cell_type": "markdown",
   "id": "797be47e",
   "metadata": {},
   "source": [
    "The quantization tables can be accessed via the image's `qt` property."
   ]
  },
  {
   "cell_type": "code",
   "execution_count": 14,
   "id": "1bbe8fb7",
   "metadata": {},
   "outputs": [
    {
     "data": {
      "text/plain": [
       "array([[[ 8,  6,  5,  8, 12, 20, 26, 31],\n",
       "        [ 6,  6,  7, 10, 13, 29, 30, 28],\n",
       "        [ 7,  7,  8, 12, 20, 29, 35, 28],\n",
       "        [ 7,  9, 11, 15, 26, 44, 40, 31],\n",
       "        [ 9, 11, 19, 28, 34, 55, 52, 39],\n",
       "        [12, 18, 28, 32, 41, 52, 57, 46],\n",
       "        [25, 32, 39, 44, 52, 61, 60, 51],\n",
       "        [36, 46, 48, 49, 56, 50, 52, 50]],\n",
       "\n",
       "       [[ 9,  9, 12, 24, 50, 50, 50, 50],\n",
       "        [ 9, 11, 13, 33, 50, 50, 50, 50],\n",
       "        [12, 13, 28, 50, 50, 50, 50, 50],\n",
       "        [24, 33, 50, 50, 50, 50, 50, 50],\n",
       "        [50, 50, 50, 50, 50, 50, 50, 50],\n",
       "        [50, 50, 50, 50, 50, 50, 50, 50],\n",
       "        [50, 50, 50, 50, 50, 50, 50, 50],\n",
       "        [50, 50, 50, 50, 50, 50, 50, 50]]], dtype=uint16)"
      ]
     },
     "execution_count": 14,
     "metadata": {},
     "output_type": "execute_result"
    }
   ],
   "source": [
    "jpeg.qt  # quantization tables at QF75"
   ]
  },
  {
   "cell_type": "markdown",
   "id": "188ce5b0",
   "metadata": {},
   "source": [
    "There are two quantization tables for three components (Y, Cb, Cr). Cb and Cr components can share the same quantization table."
   ]
  },
  {
   "cell_type": "code",
   "execution_count": 15,
   "id": "bda03c04",
   "metadata": {},
   "outputs": [
    {
     "data": {
      "text/plain": [
       "array([0, 1, 1])"
      ]
     },
     "execution_count": 15,
     "metadata": {},
     "output_type": "execute_result"
    }
   ],
   "source": [
    "jpeg.quant_tbl_no  # assignment of quantization tables"
   ]
  },
  {
   "cell_type": "markdown",
   "id": "c2bc7f2a",
   "metadata": {},
   "source": [
    "In some implementations, the quality factor basically scales the quantization table. A high quality factor leads to small-valued quantization tables. A lower quality factor corresponds to more quantization, i.e., higher quantization table entries."
   ]
  },
  {
   "cell_type": "code",
   "execution_count": 16,
   "id": "a8fdbf6c",
   "metadata": {},
   "outputs": [
    {
     "data": {
      "text/plain": [
       "array([[[ 3,  2,  2,  3,  5,  8, 10, 12],\n",
       "        [ 2,  2,  3,  4,  5, 12, 12, 11],\n",
       "        [ 3,  3,  3,  5,  8, 11, 14, 11],\n",
       "        [ 3,  3,  4,  6, 10, 17, 16, 12],\n",
       "        [ 4,  4,  7, 11, 14, 22, 21, 15],\n",
       "        [ 5,  7, 11, 13, 16, 21, 23, 18],\n",
       "        [10, 13, 16, 17, 21, 24, 24, 20],\n",
       "        [14, 18, 19, 20, 22, 20, 21, 20]],\n",
       "\n",
       "       [[ 3,  4,  5,  9, 20, 20, 20, 20],\n",
       "        [ 4,  4,  5, 13, 20, 20, 20, 20],\n",
       "        [ 5,  5, 11, 20, 20, 20, 20, 20],\n",
       "        [ 9, 13, 20, 20, 20, 20, 20, 20],\n",
       "        [20, 20, 20, 20, 20, 20, 20, 20],\n",
       "        [20, 20, 20, 20, 20, 20, 20, 20],\n",
       "        [20, 20, 20, 20, 20, 20, 20, 20],\n",
       "        [20, 20, 20, 20, 20, 20, 20, 20]]], dtype=uint16)"
      ]
     },
     "execution_count": 16,
     "metadata": {},
     "output_type": "execute_result"
    }
   ],
   "source": [
    "jpeglib.from_spatial(RGB).write_spatial('cover_qf90.jpeg', qt=90)  # compress with JPEG at QF90\n",
    "jpeg_q90 = jpeglib.read_dct('cover_qf90.jpeg')  # read JPEG DCT\n",
    "jpeg_q90.qt  # QT at QF90"
   ]
  },
  {
   "cell_type": "markdown",
   "id": "9d8055f5",
   "metadata": {},
   "source": [
    "A higher quality factor means the values in quantization become lower."
   ]
  },
  {
   "cell_type": "code",
   "execution_count": 17,
   "id": "67b40678",
   "metadata": {},
   "outputs": [
    {
     "data": {
      "text/plain": [
       "array([[[1, 1, 1, 1, 1, 1, 1, 1],\n",
       "        [1, 1, 1, 1, 1, 1, 1, 1],\n",
       "        [1, 1, 1, 1, 1, 1, 1, 1],\n",
       "        [1, 1, 1, 1, 1, 1, 1, 1],\n",
       "        [1, 1, 1, 1, 1, 1, 1, 1],\n",
       "        [1, 1, 1, 1, 1, 1, 1, 1],\n",
       "        [1, 1, 1, 1, 1, 1, 1, 1],\n",
       "        [1, 1, 1, 1, 1, 1, 1, 1]],\n",
       "\n",
       "       [[1, 1, 1, 1, 1, 1, 1, 1],\n",
       "        [1, 1, 1, 1, 1, 1, 1, 1],\n",
       "        [1, 1, 1, 1, 1, 1, 1, 1],\n",
       "        [1, 1, 1, 1, 1, 1, 1, 1],\n",
       "        [1, 1, 1, 1, 1, 1, 1, 1],\n",
       "        [1, 1, 1, 1, 1, 1, 1, 1],\n",
       "        [1, 1, 1, 1, 1, 1, 1, 1],\n",
       "        [1, 1, 1, 1, 1, 1, 1, 1]]], dtype=uint16)"
      ]
     },
     "execution_count": 17,
     "metadata": {},
     "output_type": "execute_result"
    }
   ],
   "source": [
    "jpeglib.from_spatial(RGB).write_spatial('cover_qf100.jpeg', qt=100)  # compress with JPEG at QF100\n",
    "jpeg_q100 = jpeglib.read_dct('cover_qf100.jpeg')  # read JPEG DCT\n",
    "jpeg_q100.qt  # QT at QF100"
   ]
  },
  {
   "cell_type": "markdown",
   "id": "c563ca3f",
   "metadata": {},
   "source": [
    "Quality factor 100 correspond to QTs with all ones."
   ]
  },
  {
   "cell_type": "markdown",
   "id": "aa022dc3",
   "metadata": {},
   "source": [
    "## DCT coefficients follow a Laplace distribution"
   ]
  },
  {
   "cell_type": "markdown",
   "id": "923c2a07",
   "metadata": {},
   "source": [
    "The distribution of DCT coefficients is symmetric around $0$ and usually follows a Laplace distribution."
   ]
  },
  {
   "cell_type": "code",
   "execution_count": 18,
   "id": "382ea6e1",
   "metadata": {},
   "outputs": [
    {
     "data": {
      "image/png": "[encoded data removed]",
      "text/plain": [
       "<Figure size 640x480 with 1 Axes>"
      ]
     },
     "metadata": {},
     "output_type": "display_data"
    }
   ],
   "source": [
    "import matplotlib.pyplot as plt\n",
    "N = 40\n",
    "plt.hist(jpeg_q100.Y.flatten(), bins=N, range=(-N//2-.5, N//2-.5));"
   ]
  },
  {
   "cell_type": "markdown",
   "id": "f480454a",
   "metadata": {},
   "source": [
    "At lower QFs, we observe much more zeros."
   ]
  },
  {
   "cell_type": "code",
   "execution_count": 19,
   "id": "770eea74",
   "metadata": {},
   "outputs": [
    {
     "data": {
      "image/png": "[encoded data removed]",
      "text/plain": [
       "<Figure size 640x480 with 1 Axes>"
      ]
     },
     "metadata": {},
     "output_type": "display_data"
    }
   ],
   "source": [
    "N = 40\n",
    "plt.hist(jpeg_q90.Y.flatten(), bins=N, range=(-N//2-.5, N//2-.5));"
   ]
  },
  {
   "cell_type": "markdown",
   "id": "bfecf32a",
   "metadata": {},
   "source": [
    "## Hands-on: Double compression\n",
    "\n",
    "- What can you spot in DCT histogram of a double-compressed image?"
   ]
  },
  {
   "cell_type": "markdown",
   "id": "e3011c2d",
   "metadata": {},
   "source": [
    "### Solution"
   ]
  },
  {
   "cell_type": "markdown",
   "id": "efb049ef",
   "metadata": {},
   "source": [
    "Double compression with different quality factors leaves comb-like traces."
   ]
  },
  {
   "cell_type": "code",
   "execution_count": 20,
   "id": "ad1806e0",
   "metadata": {},
   "outputs": [],
   "source": [
    "jpeglib.from_spatial(RGB).write_spatial('cover_qf95.jpeg', qt=95)  # compress with JPEG at QF95\n",
    "im = jpeglib.read_spatial('cover_qf95.jpeg')  # decompress JPEG\n",
    "im.write_spatial('cover_qf95_qf98.jpeg', qt=98)  # compress again at QF98"
   ]
  },
  {
   "cell_type": "code",
   "execution_count": 21,
   "id": "cc51aed1",
   "metadata": {},
   "outputs": [
    {
     "data": {
      "image/png": "[encoded data removed]",
      "text/plain": [
       "<Figure size 640x480 with 1 Axes>"
      ]
     },
     "metadata": {},
     "output_type": "display_data"
    }
   ],
   "source": [
    "jpeg = jpeglib.read_dct('cover_qf95_qf98.jpeg')\n",
    "N = 60\n",
    "plt.hist(jpeg.Y.flatten(), bins=N, range=(-N//2-.5, N//2-.5));"
   ]
  },
  {
   "cell_type": "code",
   "execution_count": 22,
   "id": "a2c1d931",
   "metadata": {},
   "outputs": [
    {
     "data": {
      "image/png": "[encoded data removed]",
      "text/plain": [
       "<Figure size 640x480 with 1 Axes>"
      ]
     },
     "metadata": {},
     "output_type": "display_data"
    }
   ],
   "source": [
    "# For visualization purposes, let's remove the zero bin to zoom in closer on the other bins.\n",
    "plt.hist(jpeg.Y[jpeg.Y != 0].flatten(), bins=N, range=(-N//2-.5, N//2-.5));"
   ]
  },
  {
   "cell_type": "markdown",
   "id": "d9a3019b",
   "metadata": {},
   "source": [
    "## Extension: More features of jpeglib"
   ]
  },
  {
   "cell_type": "markdown",
   "id": "25fee0f0",
   "metadata": {},
   "source": [
    "JPEG have typically YCbCr color space. But it can be also YCCK, or RGB."
   ]
  },
  {
   "cell_type": "code",
   "execution_count": 23,
   "id": "96f2cb1f",
   "metadata": {},
   "outputs": [
    {
     "data": {
      "text/plain": [
       "JCS_YCbCr"
      ]
     },
     "execution_count": 23,
     "metadata": {},
     "output_type": "execute_result"
    }
   ],
   "source": [
    "jpeg.jpeg_color_space"
   ]
  },
  {
   "cell_type": "markdown",
   "id": "f84306fa",
   "metadata": {},
   "source": [
    "The DCT coefficients are compressed losslessly using Huffman-like encoding."
   ]
  },
  {
   "cell_type": "code",
   "execution_count": 24,
   "id": "0a53290c",
   "metadata": {},
   "outputs": [
    {
     "data": {
      "text/plain": [
       "[{'AC': <Huffman 0,0,2,1,3,...>, 'DC': <Huffman 0,0,1,5,1,...>},\n",
       " {'AC': <Huffman 0,0,2,1,2,...>, 'DC': <Huffman 0,0,3,1,1,...>},\n",
       " {},\n",
       " {}]"
      ]
     },
     "execution_count": 24,
     "metadata": {},
     "output_type": "execute_result"
    }
   ],
   "source": [
    "jpeg.huffmans"
   ]
  },
  {
   "cell_type": "markdown",
   "id": "aa1fba31",
   "metadata": {},
   "source": [
    "JPEG metadata and thumbnail are stored in *markers*."
   ]
  },
  {
   "cell_type": "code",
   "execution_count": 25,
   "id": "772abe8d",
   "metadata": {},
   "outputs": [
    {
     "data": {
      "text/plain": [
       "[<Marker JPEG_APP0 N=14>, <Marker JPEG_APP0 N=14>]"
      ]
     },
     "execution_count": 25,
     "metadata": {},
     "output_type": "execute_result"
    }
   ],
   "source": [
    "jpeg.markers"
   ]
  },
  {
   "cell_type": "markdown",
   "id": "41c7fe91",
   "metadata": {},
   "source": [
    "Most JPEGs use the *sequential* compression mode. However, JPEGs can also be stored in *progressive* mode."
   ]
  },
  {
   "cell_type": "code",
   "execution_count": 26,
   "id": "06b2edaf",
   "metadata": {},
   "outputs": [
    {
     "data": {
      "text/plain": [
       "False"
      ]
     },
     "execution_count": 26,
     "metadata": {},
     "output_type": "execute_result"
    }
   ],
   "source": [
    "jpeg.progressive_mode"
   ]
  },
  {
   "cell_type": "markdown",
   "id": "d205ff27",
   "metadata": {},
   "source": [
    "By default, MozJPEG produces progressive JPEGs."
   ]
  },
  {
   "cell_type": "code",
   "execution_count": 27,
   "id": "6c034699",
   "metadata": {},
   "outputs": [],
   "source": [
    "jpeglib.version.set('mozjpeg403')\n",
    "jpeglib.from_spatial(RGB).write_spatial('cover_moz.jpeg', qt=98)\n",
    "jpeg_moz = jpeglib.read_spatial('cover_moz.jpeg')"
   ]
  },
  {
   "cell_type": "code",
   "execution_count": 28,
   "id": "6975a935",
   "metadata": {},
   "outputs": [
    {
     "data": {
      "text/plain": [
       "True"
      ]
     },
     "execution_count": 28,
     "metadata": {},
     "output_type": "execute_result"
    }
   ],
   "source": [
    "jpeg_moz.progressive_mode"
   ]
  },
  {
   "cell_type": "markdown",
   "id": "23946b29",
   "metadata": {},
   "source": [
    "Moreover, MozJPEG performs an additional optimization called Trellis optimization, which allows for further reduction of the file size. At the same time, however, Trellis optimization introduces artifacts in the DCT histogram."
   ]
  },
  {
   "cell_type": "code",
   "execution_count": 29,
   "id": "9142bb82",
   "metadata": {},
   "outputs": [
    {
     "data": {
      "text/plain": [
       "[<Scan 0,0,0,0: [0 1 2]>,\n",
       " <Scan 1,5,0,3: [0]>,\n",
       " <Scan 6,63,0,3: [0]>,\n",
       " <Scan 1,63,3,2: [0]>,\n",
       " <Scan 1,63,0,2: [1]>,\n",
       " <Scan 1,63,0,2: [2]>,\n",
       " <Scan 1,63,2,1: [0]>,\n",
       " <Scan 1,63,2,1: [1]>,\n",
       " <Scan 1,63,2,1: [2]>,\n",
       " <Scan 1,63,1,0: [0]>,\n",
       " <Scan 1,63,1,0: [1]>,\n",
       " <Scan 1,63,1,0: [2]>]"
      ]
     },
     "execution_count": 29,
     "metadata": {},
     "output_type": "execute_result"
    }
   ],
   "source": [
    "jpeg_moz = jpeglib.read_spatial('cover_moz.jpeg', buffered=True)\n",
    "jpeg_moz.scans # View the individual scans of a progressively-stored JPEG image"
   ]
  },
  {
   "cell_type": "markdown",
   "id": "42841829",
   "metadata": {},
   "source": [
    "Trellis quantization leaves *vampire-teeth* artifacts in the DCT histogram. The origin of these artifacts is described in [Hofer and Böhme, \"Progressive JPEGs in the Wild:\n",
    "Implications for Information Hiding and Forensics\", ACM IH&MMSec 2023](https://informationsecurity.uibk.ac.at/pdfs/HB2023_IHMMSEC.pdf)."
   ]
  },
  {
   "cell_type": "code",
   "execution_count": 30,
   "id": "73df7997",
   "metadata": {},
   "outputs": [
    {
     "data": {
      "image/png": "[encoded data removed]",
      "text/plain": [
       "<Figure size 640x480 with 1 Axes>"
      ]
     },
     "metadata": {},
     "output_type": "display_data"
    }
   ],
   "source": [
    "ZIGZAG_ORDER = [\n",
    "    0, 1, 8, 16, 9, 2, 3, 10, 17, 24, 32, 25, 18, 11, 4, 5,\n",
    "    12, 19, 26, 33, 40, 48, 41, 34, 27, 20, 13, 6, 7, 14, 21, 28,\n",
    "    35, 42, 49, 56, 57, 50, 43, 36, 29, 22, 15, 23, 30, 37, 44, 51,\n",
    "    58, 59, 52, 45, 38, 31, 39, 46, 53, 60, 61, 54, 47, 55, 62, 63,\n",
    "]\n",
    "jpegP = jpeglib.read_dct('cover_moz.jpeg')\n",
    "Y = jpegP.Y.reshape(-1, 64)[..., ZIGZAG_ORDER]\n",
    "N = 100\n",
    "plt.hist(Y[:, 1:8].flatten(), bins=N, range=(-N//2-.5, N//2-.5));"
   ]
  }
 ],
 "metadata": {
  "kernelspec": {
   "display_name": "Python 3 (ipykernel)",
   "language": "python",
   "name": "python3"
  },
  "language_info": {
   "codemirror_mode": {
    "name": "ipython",
    "version": 3
   },
   "file_extension": ".py",
   "mimetype": "text/x-python",
   "name": "python",
   "nbconvert_exporter": "python",
   "pygments_lexer": "ipython3",
   "version": "3.8.15"
  }
 },
 "nbformat": 4,
 "nbformat_minor": 5
}
